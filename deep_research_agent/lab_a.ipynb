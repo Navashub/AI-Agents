{
 "cells": [
  {
   "cell_type": "markdown",
   "id": "88fe3d2e",
   "metadata": {},
   "source": [
    "## OpenAI Agents SDK"
   ]
  },
  {
   "cell_type": "code",
   "execution_count": 1,
   "id": "44269210",
   "metadata": {},
   "outputs": [
    {
     "ename": "KeyError",
     "evalue": "~TContext",
     "output_type": "error",
     "traceback": [
      "\u001b[31m---------------------------------------------------------------------------\u001b[39m",
      "\u001b[31mKeyError\u001b[39m                                  Traceback (most recent call last)",
      "\u001b[36mCell\u001b[39m\u001b[36m \u001b[39m\u001b[32mIn[1]\u001b[39m\u001b[32m, line 4\u001b[39m\n\u001b[32m      1\u001b[39m \u001b[38;5;66;03m# The imports\u001b[39;00m\n\u001b[32m      3\u001b[39m \u001b[38;5;28;01mfrom\u001b[39;00m\u001b[38;5;250m \u001b[39m\u001b[34;01mdotenv\u001b[39;00m\u001b[38;5;250m \u001b[39m\u001b[38;5;28;01mimport\u001b[39;00m load_dotenv\n\u001b[32m----> \u001b[39m\u001b[32m4\u001b[39m \u001b[38;5;28;01mfrom\u001b[39;00m\u001b[38;5;250m \u001b[39m\u001b[34;01magents\u001b[39;00m\u001b[38;5;250m \u001b[39m\u001b[38;5;28;01mimport\u001b[39;00m Agent, Runner\n",
      "\u001b[36mFile \u001b[39m\u001b[32md:\\AI-Agents\\deep_research_agent\\researchenv\\Lib\\site-packages\\agents\\__init__.py:8\u001b[39m\n\u001b[32m      5\u001b[39m \u001b[38;5;28;01mfrom\u001b[39;00m\u001b[38;5;250m \u001b[39m\u001b[34;01mopenai\u001b[39;00m\u001b[38;5;250m \u001b[39m\u001b[38;5;28;01mimport\u001b[39;00m AsyncOpenAI\n\u001b[32m      7\u001b[39m \u001b[38;5;28;01mfrom\u001b[39;00m\u001b[38;5;250m \u001b[39m\u001b[34;01m.\u001b[39;00m\u001b[38;5;250m \u001b[39m\u001b[38;5;28;01mimport\u001b[39;00m _config\n\u001b[32m----> \u001b[39m\u001b[32m8\u001b[39m \u001b[38;5;28;01mfrom\u001b[39;00m\u001b[38;5;250m \u001b[39m\u001b[34;01m.\u001b[39;00m\u001b[34;01magent\u001b[39;00m\u001b[38;5;250m \u001b[39m\u001b[38;5;28;01mimport\u001b[39;00m Agent, ToolsToFinalOutputFunction, ToolsToFinalOutputResult\n\u001b[32m      9\u001b[39m \u001b[38;5;28;01mfrom\u001b[39;00m\u001b[38;5;250m \u001b[39m\u001b[34;01m.\u001b[39;00m\u001b[34;01magent_output\u001b[39;00m\u001b[38;5;250m \u001b[39m\u001b[38;5;28;01mimport\u001b[39;00m AgentOutputSchema, AgentOutputSchemaBase\n\u001b[32m     10\u001b[39m \u001b[38;5;28;01mfrom\u001b[39;00m\u001b[38;5;250m \u001b[39m\u001b[34;01m.\u001b[39;00m\u001b[34;01mcomputer\u001b[39;00m\u001b[38;5;250m \u001b[39m\u001b[38;5;28;01mimport\u001b[39;00m AsyncComputer, Button, Computer, Environment\n",
      "\u001b[36mFile \u001b[39m\u001b[32md:\\AI-Agents\\deep_research_agent\\researchenv\\Lib\\site-packages\\agents\\agent.py:18\u001b[39m\n\u001b[32m     16\u001b[39m \u001b[38;5;28;01mfrom\u001b[39;00m\u001b[38;5;250m \u001b[39m\u001b[34;01m.\u001b[39;00m\u001b[34;01mitems\u001b[39;00m\u001b[38;5;250m \u001b[39m\u001b[38;5;28;01mimport\u001b[39;00m ItemHelpers\n\u001b[32m     17\u001b[39m \u001b[38;5;28;01mfrom\u001b[39;00m\u001b[38;5;250m \u001b[39m\u001b[34;01m.\u001b[39;00m\u001b[34;01mlogger\u001b[39;00m\u001b[38;5;250m \u001b[39m\u001b[38;5;28;01mimport\u001b[39;00m logger\n\u001b[32m---> \u001b[39m\u001b[32m18\u001b[39m \u001b[38;5;28;01mfrom\u001b[39;00m\u001b[38;5;250m \u001b[39m\u001b[34;01m.\u001b[39;00m\u001b[34;01mmcp\u001b[39;00m\u001b[38;5;250m \u001b[39m\u001b[38;5;28;01mimport\u001b[39;00m MCPUtil\n\u001b[32m     19\u001b[39m \u001b[38;5;28;01mfrom\u001b[39;00m\u001b[38;5;250m \u001b[39m\u001b[34;01m.\u001b[39;00m\u001b[34;01mmodel_settings\u001b[39;00m\u001b[38;5;250m \u001b[39m\u001b[38;5;28;01mimport\u001b[39;00m ModelSettings\n\u001b[32m     20\u001b[39m \u001b[38;5;28;01mfrom\u001b[39;00m\u001b[38;5;250m \u001b[39m\u001b[34;01m.\u001b[39;00m\u001b[34;01mmodels\u001b[39;00m\u001b[34;01m.\u001b[39;00m\u001b[34;01minterface\u001b[39;00m\u001b[38;5;250m \u001b[39m\u001b[38;5;28;01mimport\u001b[39;00m Model\n",
      "\u001b[36mFile \u001b[39m\u001b[32md:\\AI-Agents\\deep_research_agent\\researchenv\\Lib\\site-packages\\agents\\mcp\\__init__.py:14\u001b[39m\n\u001b[32m     11\u001b[39m \u001b[38;5;28;01mexcept\u001b[39;00m \u001b[38;5;167;01mImportError\u001b[39;00m:\n\u001b[32m     12\u001b[39m     \u001b[38;5;28;01mpass\u001b[39;00m\n\u001b[32m---> \u001b[39m\u001b[32m14\u001b[39m \u001b[38;5;28;01mfrom\u001b[39;00m\u001b[38;5;250m \u001b[39m\u001b[34;01m.\u001b[39;00m\u001b[34;01mutil\u001b[39;00m\u001b[38;5;250m \u001b[39m\u001b[38;5;28;01mimport\u001b[39;00m MCPUtil\n\u001b[32m     16\u001b[39m __all__ = [\n\u001b[32m     17\u001b[39m     \u001b[33m\"\u001b[39m\u001b[33mMCPServer\u001b[39m\u001b[33m\"\u001b[39m,\n\u001b[32m     18\u001b[39m     \u001b[33m\"\u001b[39m\u001b[33mMCPServerSse\u001b[39m\u001b[33m\"\u001b[39m,\n\u001b[32m   (...)\u001b[39m\u001b[32m     24\u001b[39m     \u001b[33m\"\u001b[39m\u001b[33mMCPUtil\u001b[39m\u001b[33m\"\u001b[39m,\n\u001b[32m     25\u001b[39m ]\n",
      "\u001b[36mFile \u001b[39m\u001b[32md:\\AI-Agents\\deep_research_agent\\researchenv\\Lib\\site-packages\\agents\\mcp\\util.py:11\u001b[39m\n\u001b[32m      9\u001b[39m \u001b[38;5;28;01mfrom\u001b[39;00m\u001b[38;5;250m \u001b[39m\u001b[34;01m.\u001b[39;00m\u001b[34;01m.\u001b[39;00m\u001b[34;01mlogger\u001b[39;00m\u001b[38;5;250m \u001b[39m\u001b[38;5;28;01mimport\u001b[39;00m logger\n\u001b[32m     10\u001b[39m \u001b[38;5;28;01mfrom\u001b[39;00m\u001b[38;5;250m \u001b[39m\u001b[34;01m.\u001b[39;00m\u001b[34;01m.\u001b[39;00m\u001b[34;01mrun_context\u001b[39;00m\u001b[38;5;250m \u001b[39m\u001b[38;5;28;01mimport\u001b[39;00m RunContextWrapper\n\u001b[32m---> \u001b[39m\u001b[32m11\u001b[39m \u001b[38;5;28;01mfrom\u001b[39;00m\u001b[38;5;250m \u001b[39m\u001b[34;01m.\u001b[39;00m\u001b[34;01m.\u001b[39;00m\u001b[34;01mtool\u001b[39;00m\u001b[38;5;250m \u001b[39m\u001b[38;5;28;01mimport\u001b[39;00m FunctionTool, Tool\n\u001b[32m     12\u001b[39m \u001b[38;5;28;01mfrom\u001b[39;00m\u001b[38;5;250m \u001b[39m\u001b[34;01m.\u001b[39;00m\u001b[34;01m.\u001b[39;00m\u001b[34;01mtracing\u001b[39;00m\u001b[38;5;250m \u001b[39m\u001b[38;5;28;01mimport\u001b[39;00m FunctionSpanData, get_current_span, mcp_tools_span\n\u001b[32m     14\u001b[39m \u001b[38;5;28;01mif\u001b[39;00m TYPE_CHECKING:\n",
      "\u001b[36mFile \u001b[39m\u001b[32md:\\AI-Agents\\deep_research_agent\\researchenv\\Lib\\site-packages\\agents\\tool.py:40\u001b[39m\n\u001b[32m     34\u001b[39m ToolFunctionWithContext = Callable[Concatenate[RunContextWrapper[Any], ToolParams], Any]\n\u001b[32m     35\u001b[39m ToolFunctionWithToolContext = Callable[Concatenate[ToolContext, ToolParams], Any]\n\u001b[32m     37\u001b[39m ToolFunction = Union[\n\u001b[32m     38\u001b[39m     ToolFunctionWithoutContext[ToolParams],\n\u001b[32m     39\u001b[39m     ToolFunctionWithContext[ToolParams],\n\u001b[32m---> \u001b[39m\u001b[32m40\u001b[39m     \u001b[43mToolFunctionWithToolContext\u001b[49m\u001b[43m[\u001b[49m\u001b[43mToolParams\u001b[49m\u001b[43m]\u001b[49m,\n\u001b[32m     41\u001b[39m ]\n\u001b[32m     44\u001b[39m \u001b[38;5;129m@dataclass\u001b[39m\n\u001b[32m     45\u001b[39m \u001b[38;5;28;01mclass\u001b[39;00m\u001b[38;5;250m \u001b[39m\u001b[34;01mFunctionToolResult\u001b[39;00m:\n\u001b[32m     46\u001b[39m     tool: FunctionTool\n",
      "\u001b[36mFile \u001b[39m\u001b[32mC:\\Program Files\\Python311\\Lib\\typing.py:360\u001b[39m, in \u001b[36m_tp_cache.<locals>.decorator.<locals>.inner\u001b[39m\u001b[34m(*args, **kwds)\u001b[39m\n\u001b[32m    357\u001b[39m \u001b[38;5;129m@functools\u001b[39m.wraps(func)\n\u001b[32m    358\u001b[39m \u001b[38;5;28;01mdef\u001b[39;00m\u001b[38;5;250m \u001b[39m\u001b[34minner\u001b[39m(*args, **kwds):\n\u001b[32m    359\u001b[39m     \u001b[38;5;28;01mtry\u001b[39;00m:\n\u001b[32m--> \u001b[39m\u001b[32m360\u001b[39m         \u001b[38;5;28;01mreturn\u001b[39;00m \u001b[43mcached\u001b[49m\u001b[43m(\u001b[49m\u001b[43m*\u001b[49m\u001b[43margs\u001b[49m\u001b[43m,\u001b[49m\u001b[43m \u001b[49m\u001b[43m*\u001b[49m\u001b[43m*\u001b[49m\u001b[43mkwds\u001b[49m\u001b[43m)\u001b[49m\n\u001b[32m    361\u001b[39m     \u001b[38;5;28;01mexcept\u001b[39;00m \u001b[38;5;167;01mTypeError\u001b[39;00m:\n\u001b[32m    362\u001b[39m         \u001b[38;5;28;01mpass\u001b[39;00m  \u001b[38;5;66;03m# All real errors (not unhashable args) are raised below.\u001b[39;00m\n",
      "\u001b[36mFile \u001b[39m\u001b[32mC:\\Program Files\\Python311\\Lib\\typing.py:1391\u001b[39m, in \u001b[36m_GenericAlias.__getitem__\u001b[39m\u001b[34m(self, args)\u001b[39m\n\u001b[32m   1389\u001b[39m args = \u001b[38;5;28mtuple\u001b[39m(_type_convert(p) \u001b[38;5;28;01mfor\u001b[39;00m p \u001b[38;5;129;01min\u001b[39;00m args)\n\u001b[32m   1390\u001b[39m args = _unpack_args(args)\n\u001b[32m-> \u001b[39m\u001b[32m1391\u001b[39m new_args = \u001b[38;5;28;43mself\u001b[39;49m\u001b[43m.\u001b[49m\u001b[43m_determine_new_args\u001b[49m\u001b[43m(\u001b[49m\u001b[43margs\u001b[49m\u001b[43m)\u001b[49m\n\u001b[32m   1392\u001b[39m r = \u001b[38;5;28mself\u001b[39m.copy_with(new_args)\n\u001b[32m   1393\u001b[39m \u001b[38;5;28;01mreturn\u001b[39;00m r\n",
      "\u001b[36mFile \u001b[39m\u001b[32mC:\\Program Files\\Python311\\Lib\\typing.py:1440\u001b[39m, in \u001b[36m_GenericAlias._determine_new_args\u001b[39m\u001b[34m(self, args)\u001b[39m\n\u001b[32m   1438\u001b[39m             \u001b[38;5;28;01melse\u001b[39;00m:\n\u001b[32m   1439\u001b[39m                 subargs.append(new_arg_by_param[x])\n\u001b[32m-> \u001b[39m\u001b[32m1440\u001b[39m         new_arg = \u001b[43mold_arg\u001b[49m\u001b[43m[\u001b[49m\u001b[38;5;28;43mtuple\u001b[39;49m\u001b[43m(\u001b[49m\u001b[43msubargs\u001b[49m\u001b[43m)\u001b[49m\u001b[43m]\u001b[49m\n\u001b[32m   1442\u001b[39m \u001b[38;5;28;01mif\u001b[39;00m \u001b[38;5;28mself\u001b[39m.__origin__ == collections.abc.Callable \u001b[38;5;129;01mand\u001b[39;00m \u001b[38;5;28misinstance\u001b[39m(new_arg, \u001b[38;5;28mtuple\u001b[39m):\n\u001b[32m   1443\u001b[39m     \u001b[38;5;66;03m# Consider the following `Callable`.\u001b[39;00m\n\u001b[32m   1444\u001b[39m     \u001b[38;5;66;03m#   C = Callable[[int], str]\u001b[39;00m\n\u001b[32m   (...)\u001b[39m\u001b[32m   1451\u001b[39m     \u001b[38;5;66;03m# ...we need to be careful; `new_args` should end up as\u001b[39;00m\n\u001b[32m   1452\u001b[39m     \u001b[38;5;66;03m# `(int, str, float)` rather than `([int, str], float)`.\u001b[39;00m\n\u001b[32m   1453\u001b[39m     new_args.extend(new_arg)\n",
      "\u001b[36mFile \u001b[39m\u001b[32mC:\\Program Files\\Python311\\Lib\\typing.py:360\u001b[39m, in \u001b[36m_tp_cache.<locals>.decorator.<locals>.inner\u001b[39m\u001b[34m(*args, **kwds)\u001b[39m\n\u001b[32m    357\u001b[39m \u001b[38;5;129m@functools\u001b[39m.wraps(func)\n\u001b[32m    358\u001b[39m \u001b[38;5;28;01mdef\u001b[39;00m\u001b[38;5;250m \u001b[39m\u001b[34minner\u001b[39m(*args, **kwds):\n\u001b[32m    359\u001b[39m     \u001b[38;5;28;01mtry\u001b[39;00m:\n\u001b[32m--> \u001b[39m\u001b[32m360\u001b[39m         \u001b[38;5;28;01mreturn\u001b[39;00m \u001b[43mcached\u001b[49m\u001b[43m(\u001b[49m\u001b[43m*\u001b[49m\u001b[43margs\u001b[49m\u001b[43m,\u001b[49m\u001b[43m \u001b[49m\u001b[43m*\u001b[49m\u001b[43m*\u001b[49m\u001b[43mkwds\u001b[49m\u001b[43m)\u001b[49m\n\u001b[32m    361\u001b[39m     \u001b[38;5;28;01mexcept\u001b[39;00m \u001b[38;5;167;01mTypeError\u001b[39;00m:\n\u001b[32m    362\u001b[39m         \u001b[38;5;28;01mpass\u001b[39;00m  \u001b[38;5;66;03m# All real errors (not unhashable args) are raised below.\u001b[39;00m\n",
      "\u001b[36mFile \u001b[39m\u001b[32mC:\\Program Files\\Python311\\Lib\\typing.py:1391\u001b[39m, in \u001b[36m_GenericAlias.__getitem__\u001b[39m\u001b[34m(self, args)\u001b[39m\n\u001b[32m   1389\u001b[39m args = \u001b[38;5;28mtuple\u001b[39m(_type_convert(p) \u001b[38;5;28;01mfor\u001b[39;00m p \u001b[38;5;129;01min\u001b[39;00m args)\n\u001b[32m   1390\u001b[39m args = _unpack_args(args)\n\u001b[32m-> \u001b[39m\u001b[32m1391\u001b[39m new_args = \u001b[38;5;28;43mself\u001b[39;49m\u001b[43m.\u001b[49m\u001b[43m_determine_new_args\u001b[49m\u001b[43m(\u001b[49m\u001b[43margs\u001b[49m\u001b[43m)\u001b[49m\n\u001b[32m   1392\u001b[39m r = \u001b[38;5;28mself\u001b[39m.copy_with(new_args)\n\u001b[32m   1393\u001b[39m \u001b[38;5;28;01mreturn\u001b[39;00m r\n",
      "\u001b[36mFile \u001b[39m\u001b[32mC:\\Program Files\\Python311\\Lib\\typing.py:1439\u001b[39m, in \u001b[36m_GenericAlias._determine_new_args\u001b[39m\u001b[34m(self, args)\u001b[39m\n\u001b[32m   1437\u001b[39m                 subargs.extend(new_arg_by_param[x])\n\u001b[32m   1438\u001b[39m             \u001b[38;5;28;01melse\u001b[39;00m:\n\u001b[32m-> \u001b[39m\u001b[32m1439\u001b[39m                 subargs.append(\u001b[43mnew_arg_by_param\u001b[49m\u001b[43m[\u001b[49m\u001b[43mx\u001b[49m\u001b[43m]\u001b[49m)\n\u001b[32m   1440\u001b[39m         new_arg = old_arg[\u001b[38;5;28mtuple\u001b[39m(subargs)]\n\u001b[32m   1442\u001b[39m \u001b[38;5;28;01mif\u001b[39;00m \u001b[38;5;28mself\u001b[39m.__origin__ == collections.abc.Callable \u001b[38;5;129;01mand\u001b[39;00m \u001b[38;5;28misinstance\u001b[39m(new_arg, \u001b[38;5;28mtuple\u001b[39m):\n\u001b[32m   1443\u001b[39m     \u001b[38;5;66;03m# Consider the following `Callable`.\u001b[39;00m\n\u001b[32m   1444\u001b[39m     \u001b[38;5;66;03m#   C = Callable[[int], str]\u001b[39;00m\n\u001b[32m   (...)\u001b[39m\u001b[32m   1451\u001b[39m     \u001b[38;5;66;03m# ...we need to be careful; `new_args` should end up as\u001b[39;00m\n\u001b[32m   1452\u001b[39m     \u001b[38;5;66;03m# `(int, str, float)` rather than `([int, str], float)`.\u001b[39;00m\n",
      "\u001b[31mKeyError\u001b[39m: ~TContext"
     ]
    }
   ],
   "source": [
    "# The imports\n",
    "\n",
    "from dotenv import load_dotenv\n",
    "from agents import Agent, Runner"
   ]
  },
  {
   "cell_type": "code",
   "execution_count": null,
   "id": "9382ee3f",
   "metadata": {},
   "outputs": [],
   "source": [
    "# Environment variables are stored in the .env file\n",
    "\n",
    "load_dotenv(override=True)"
   ]
  },
  {
   "cell_type": "code",
   "execution_count": null,
   "id": "1118d355",
   "metadata": {},
   "outputs": [],
   "source": [
    "\n",
    "# Make an agent with name, instructions, model\n",
    "\n",
    "agent = Agent(name=\"Jokester\", instructions=\"You are a joke teller\", model=\"gpt-4.1-mini\")"
   ]
  },
  {
   "cell_type": "code",
   "execution_count": null,
   "id": "f69b16de",
   "metadata": {},
   "outputs": [],
   "source": [
    "# Run the joke with Runner.run(agent, prompt) then print final_output\n",
    "\n",
    "with trace(\"Telling a joke\"):\n",
    "    result = await Runner.run(agent, \"Tell a joke about Autonomous AI Agents\")\n",
    "    print(result.final_output)"
   ]
  },
  {
   "cell_type": "markdown",
   "id": "53f89ffd",
   "metadata": {},
   "source": [
    "## Now go and look at the trace\n",
    "\n",
    "https://platform.openai.com/traces"
   ]
  },
  {
   "cell_type": "markdown",
   "id": "305b7195",
   "metadata": {},
   "source": []
  }
 ],
 "metadata": {
  "kernelspec": {
   "display_name": "researchenv",
   "language": "python",
   "name": "python3"
  },
  "language_info": {
   "codemirror_mode": {
    "name": "ipython",
    "version": 3
   },
   "file_extension": ".py",
   "mimetype": "text/x-python",
   "name": "python",
   "nbconvert_exporter": "python",
   "pygments_lexer": "ipython3",
   "version": "3.11.0"
  }
 },
 "nbformat": 4,
 "nbformat_minor": 5
}
