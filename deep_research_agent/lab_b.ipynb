{
 "cells": [
  {
   "cell_type": "markdown",
   "id": "0266f9ee",
   "metadata": {},
   "source": [
    "## Deep Research"
   ]
  },
  {
   "cell_type": "code",
   "execution_count": 2,
   "id": "576fb9cb",
   "metadata": {},
   "outputs": [
    {
     "data": {
      "text/plain": [
       "True"
      ]
     },
     "execution_count": 2,
     "metadata": {},
     "output_type": "execute_result"
    }
   ],
   "source": [
    "# Imports\n",
    "\n",
    "from agents import Agent, WebSearchTool, trace, Runner, function_tool\n",
    "from agents.model_settings import ModelSettings\n",
    "from pydantic import BaseModel\n",
    "from dotenv import load_dotenv\n",
    "import asyncio\n",
    "import os\n",
    "from IPython.display import display, Markdown\n",
    "from pprint import pprint\n",
    "import requests\n",
    "load_dotenv(override=True)\n",
    "\n",
    "# Constants\n",
    "\n",
    "# pushover_user = os.getenv(\"PUSHOVER_USER\")\n",
    "# pushover_token = os.getenv(\"PUSHOVER_TOKEN\")\n",
    "# pushover_url = \"https://api.pushover.net/1/messages.json\""
   ]
  },
  {
   "cell_type": "markdown",
   "id": "321a7e09",
   "metadata": {},
   "source": [
    "## OpenAI Hosted Tools\n",
    "\n",
    "OpenAI Agents SDK includes the following hosted tools:\n",
    "\n",
    "The `WebSearchTool` lets an agent search the web.  \n",
    "The `FileSearchTool` allows retrieving information from your OpenAI Vector Stores.  \n",
    "The `ComputerTool` allows automating computer use tasks like taking screenshots and clicking.\n",
    "\n",
    "### Important note - API charge of WebSearchTool\n",
    "\n",
    "This is costing me 2.5 cents per call for OpenAI WebSearchTool. That can add up to $2-$3 for the next 2 labs. We'll use low cost Search tools with other platforms, so feel free to skip running this if the cost is a concern.\n",
    "\n",
    "Costs are here: https://platform.openai.com/docs/pricing#web-search"
   ]
  },
  {
   "cell_type": "markdown",
   "id": "8ec66c4e",
   "metadata": {},
   "source": [
    "### 1. Search Agent"
   ]
  },
  {
   "cell_type": "code",
   "execution_count": 3,
   "id": "e05c491f",
   "metadata": {},
   "outputs": [],
   "source": [
    "INSTRUCTIONS = \"You are a research assistant. Given a search term, you search the web for that term and \\\n",
    "produce a concise summary of the results. The summary must 2-3 paragraphs and less than 300 \\\n",
    "words. Capture the main points. Write succintly, no need to have complete sentences or good \\\n",
    "grammar. This will be consumed by someone synthesizing a report, so it's vital you capture the \\\n",
    "essence and ignore any fluff. Do not include any additional commentary other than the summary itself.\"\n",
    "\n",
    "search_agent = Agent(\n",
    "    name=\"Search agent\",\n",
    "    instructions=INSTRUCTIONS,\n",
    "    tools=[WebSearchTool(search_context_size=\"low\")],\n",
    "    model=\"gpt-4.1-mini\",\n",
    "    model_settings=ModelSettings(tool_choice=\"required\"),\n",
    ")"
   ]
  },
  {
   "cell_type": "code",
   "execution_count": 4,
   "id": "8e2c541d",
   "metadata": {},
   "outputs": [
    {
     "data": {
      "text/markdown": [
       "As of May 2025, several AI agent frameworks have gained prominence for their capabilities and developer adoption:\n",
       "\n",
       "- **LangChain**: A modular Python framework enabling the creation of LLM-powered agents with features like prompt chaining, memory integration, and external tool utilization. It supports various LLMs, including OpenAI and Cohere, and offers a rich ecosystem of tools for tasks such as web search and code execution. ([medium.com](https://medium.com/%40elisowski/top-ai-agent-frameworks-in-2025-9bcedab2e239?utm_source=openai))\n",
       "\n",
       "- **AutoGen**: Developed by Microsoft, AutoGen facilitates the development of multi-agent systems through natural language communication between agents. It includes built-in agents like AssistantAgent and UserProxyAgent, and integrates with OpenAI and Azure OpenAI endpoints. ([medium.com](https://medium.com/%40elisowski/top-ai-agent-frameworks-in-2025-9bcedab2e239?utm_source=openai))\n",
       "\n",
       "- **CrewAI**: This framework focuses on orchestrating role-based AI agents for collaborative tasks, emphasizing simplicity and minimal setup. It has gained significant popularity, with over 32,000 GitHub stars and nearly 1 million monthly downloads, particularly in customer service and marketing automation. ([datacamp.com](https://www.datacamp.com/blog/best-ai-agents?utm_source=openai))\n",
       "\n",
       "- **OpenAI Agents SDK**: A lightweight Python framework released in March 2025, designed for creating multi-agent workflows with comprehensive tracing and guardrails. ([datacamp.com](https://www.datacamp.com/blog/best-ai-agents?utm_source=openai))\n",
       "\n",
       "- **LangGraph**: An extension of LangChain, LangGraph allows developers to define agents as state machines, providing fine-grained control over agent state and facilitating complex workflows. It integrates with LangChain’s tools, memory, and models, supporting loops, conditional branching, and persistent state. ([medium.com](https://medium.com/%40elisowski/top-ai-agent-frameworks-in-2025-9bcedab2e239?utm_source=openai))\n",
       "\n",
       "These frameworks are at the forefront of AI agent development, offering diverse approaches to building intelligent, autonomous systems. "
      ],
      "text/plain": [
       "<IPython.core.display.Markdown object>"
      ]
     },
     "metadata": {},
     "output_type": "display_data"
    }
   ],
   "source": [
    "message = \"What are the most popular and successful AI Agent frameworks in May 2025\"\n",
    "\n",
    "with trace(\"Search\"):\n",
    "    result = await Runner.run(search_agent, message)\n",
    "\n",
    "display(Markdown(result.final_output))"
   ]
  },
  {
   "cell_type": "markdown",
   "id": "8bfd01c3",
   "metadata": {},
   "source": [
    "### 2. Planner Agent\n",
    "\n",
    "Given a query, come up with 5 ideas for web searches that could be run.\n",
    "\n",
    "Use Structured Outputs as our way to ensure the Agent provides what we need."
   ]
  },
  {
   "cell_type": "code",
   "execution_count": 6,
   "id": "4de8511f",
   "metadata": {},
   "outputs": [],
   "source": [
    "# See note above about cost of WebSearchTool\n",
    "\n",
    "HOW_MANY_SEARCHES = 5\n",
    "\n",
    "INSTRUCTIONS = f\"You are a helpful research assistant. Given a query, come up with a set of web searches \\\n",
    "to perform to best answer the query. Output {HOW_MANY_SEARCHES} terms to query for.\"\n",
    "\n",
    "# We use Pydantic objects to describe the Schema of the output\n",
    "\n",
    "class WebSearchItem(BaseModel):\n",
    "    reason: str\n",
    "    \"Your reasoning for why this search is important to the query.\"\n",
    "\n",
    "    query: str\n",
    "    \"The search term to use for the web search.\"\n",
    "\n",
    "\n",
    "class WebSearchPlan(BaseModel):\n",
    "    searches: list[WebSearchItem]\n",
    "    \"\"\"A list of web searches to perform to best answer the query.\"\"\"\n",
    "\n",
    "# We pass in the Pydantic object to ensure the output follows the schema\n",
    "\n",
    "planner_agent = Agent(\n",
    "    name=\"PlannerAgent\",\n",
    "    instructions=INSTRUCTIONS,\n",
    "    model=\"gpt-4.1-mini\",\n",
    "    output_type=WebSearchPlan,\n",
    ")"
   ]
  },
  {
   "cell_type": "code",
   "execution_count": 7,
   "id": "cea9ba08",
   "metadata": {},
   "outputs": [
    {
     "name": "stdout",
     "output_type": "stream",
     "text": [
      "WebSearchPlan(searches=[WebSearchItem(reason='Identify the leading AI agent frameworks currently known for popularity and success.', query='top AI agent frameworks 2025'), WebSearchItem(reason='Gather expert reviews and comparisons of AI agent frameworks in 2025.', query='best AI agent frameworks comparison May 2025'), WebSearchItem(reason='Find recent trends and market share of AI agent frameworks in early 2025.', query='AI agent frameworks market share 2025'), WebSearchItem(reason='Look for user and developer feedback on popular AI agent frameworks in 2025.', query='user reviews AI agent frameworks 2025'), WebSearchItem(reason='Discover technological advancements and new features in AI agent frameworks as of May 2025.', query='latest features AI agent frameworks 2025')])\n"
     ]
    }
   ],
   "source": [
    "\n",
    "message = \"What are the most popular and successful AI Agent frameworks in May 2025\"\n",
    "\n",
    "with trace(\"Search\"):\n",
    "    result = await Runner.run(planner_agent, message)\n",
    "    pprint(result.final_output)"
   ]
  },
  {
   "cell_type": "markdown",
   "id": "3e305507",
   "metadata": {},
   "source": [
    "### 3. Writer Agent\n",
    "\n",
    "Take the results of internet searches and make a report"
   ]
  },
  {
   "cell_type": "code",
   "execution_count": 8,
   "id": "9e382ea1",
   "metadata": {},
   "outputs": [],
   "source": [
    "INSTRUCTIONS = (\n",
    "    \"You are a senior researcher tasked with writing a cohesive report for a research query. \"\n",
    "    \"You will be provided with the original query, and some initial research done by a research assistant.\\n\"\n",
    "    \"You should first come up with an outline for the report that describes the structure and \"\n",
    "    \"flow of the report. Then, generate the report and return that as your final output.\\n\"\n",
    "    \"The final output should be in markdown format, and it should be lengthy and detailed. Aim \"\n",
    "    \"for 5-10 pages of content, at least 1000 words.\"\n",
    ")\n",
    "\n",
    "\n",
    "class ReportData(BaseModel):\n",
    "    short_summary: str\n",
    "    \"\"\"A short 2-3 sentence summary of the findings.\"\"\"\n",
    "\n",
    "    markdown_report: str\n",
    "    \"\"\"The final report\"\"\"\n",
    "\n",
    "    follow_up_questions: list[str]\n",
    "    \"\"\"Suggested topics to research further\"\"\"\n",
    "\n",
    "\n",
    "writer_agent = Agent(\n",
    "    name=\"WriterAgent\",\n",
    "    instructions=INSTRUCTIONS,\n",
    "    model=\"gpt-4o-mini\",\n",
    "    output_type=ReportData,\n",
    ")"
   ]
  },
  {
   "cell_type": "markdown",
   "id": "e1585837",
   "metadata": {},
   "source": [
    "### 4. push notification\n"
   ]
  },
  {
   "cell_type": "code",
   "execution_count": null,
   "id": "a0f74267",
   "metadata": {},
   "outputs": [],
   "source": [
    "@function_tool\n",
    "def push(message: str):\n",
    "    \"\"\"Send a push notification with this brief message\"\"\"\n",
    "    payload = {\"user\": pushover_user, \"token\": pushover_token, \"message\": message}\n",
    "    requests.post(pushover_url, data=payload)\n",
    "    return {\"status\": \"success\"}"
   ]
  },
  {
   "cell_type": "code",
   "execution_count": null,
   "id": "112393d7",
   "metadata": {},
   "outputs": [],
   "source": [
    "push"
   ]
  },
  {
   "cell_type": "code",
   "execution_count": 9,
   "id": "021af4a0",
   "metadata": {},
   "outputs": [
    {
     "ename": "NameError",
     "evalue": "name 'push' is not defined",
     "output_type": "error",
     "traceback": [
      "\u001b[31m---------------------------------------------------------------------------\u001b[39m",
      "\u001b[31mNameError\u001b[39m                                 Traceback (most recent call last)",
      "\u001b[36mCell\u001b[39m\u001b[36m \u001b[39m\u001b[32mIn[9]\u001b[39m\u001b[32m, line 9\u001b[39m\n\u001b[32m      1\u001b[39m INSTRUCTIONS = \u001b[33m\"\"\"\u001b[39m\u001b[33mYou are a member of a research team and will be provided with a short summary of a report.\u001b[39m\n\u001b[32m      2\u001b[39m \u001b[33mWhen you receive the report summary, you send a push notification to the user using your tool, informing them that research is complete,\u001b[39m\n\u001b[32m      3\u001b[39m \u001b[33mand including the report summary you receive\u001b[39m\u001b[33m\"\"\"\u001b[39m\n\u001b[32m      6\u001b[39m push_agent = Agent(\n\u001b[32m      7\u001b[39m     name=\u001b[33m\"\u001b[39m\u001b[33mPush agent\u001b[39m\u001b[33m\"\u001b[39m,\n\u001b[32m      8\u001b[39m     instructions=INSTRUCTIONS,\n\u001b[32m----> \u001b[39m\u001b[32m9\u001b[39m     tools=[\u001b[43mpush\u001b[49m],\n\u001b[32m     10\u001b[39m     model=\u001b[33m\"\u001b[39m\u001b[33mgpt-4.1-mini\u001b[39m\u001b[33m\"\u001b[39m,\n\u001b[32m     11\u001b[39m     model_settings=ModelSettings(tool_choice=\u001b[33m\"\u001b[39m\u001b[33mrequired\u001b[39m\u001b[33m\"\u001b[39m)\n\u001b[32m     12\u001b[39m )\n",
      "\u001b[31mNameError\u001b[39m: name 'push' is not defined"
     ]
    }
   ],
   "source": [
    "INSTRUCTIONS = \"\"\"You are a member of a research team and will be provided with a short summary of a report.\n",
    "When you receive the report summary, you send a push notification to the user using your tool, informing them that research is complete,\n",
    "and including the report summary you receive\"\"\"\n",
    "\n",
    "\n",
    "push_agent = Agent(\n",
    "    name=\"Push agent\",\n",
    "    instructions=INSTRUCTIONS,\n",
    "    tools=[push],\n",
    "    model=\"gpt-4.1-mini\",\n",
    "    model_settings=ModelSettings(tool_choice=\"required\")\n",
    ")"
   ]
  },
  {
   "cell_type": "markdown",
   "id": "b0a1ff87",
   "metadata": {},
   "source": [
    "### The next 3 functions will plan and execute the search, using planner_agent and search_agent"
   ]
  },
  {
   "cell_type": "code",
   "execution_count": 10,
   "id": "ce6376e1",
   "metadata": {},
   "outputs": [],
   "source": [
    "async def plan_searches(query: str):\n",
    "    \"\"\" Use the planner_agent to plan which searches to run for the query \"\"\"\n",
    "    print(\"Planning searches...\")\n",
    "    result = await Runner.run(planner_agent, f\"Query: {query}\")\n",
    "    print(f\"Will perform {len(result.final_output.searches)} searches\")\n",
    "    return result.final_output\n",
    "\n",
    "async def perform_searches(search_plan: WebSearchPlan):\n",
    "    \"\"\" Call search() for each item in the search plan \"\"\"\n",
    "    print(\"Searching...\")\n",
    "    tasks = [asyncio.create_task(search(item)) for item in search_plan.searches]\n",
    "    results = await asyncio.gather(*tasks)\n",
    "    print(\"Finished searching\")\n",
    "    return results\n",
    "\n",
    "async def search(item: WebSearchItem):\n",
    "    \"\"\" Use the search agent to run a web search for each item in the search plan \"\"\"\n",
    "    input = f\"Search term: {item.query}\\nReason for searching: {item.reason}\"\n",
    "    result = await Runner.run(search_agent, input)\n",
    "    return result.final_output"
   ]
  },
  {
   "cell_type": "markdown",
   "id": "0c632ae1",
   "metadata": {},
   "source": [
    "### send a push notification"
   ]
  },
  {
   "cell_type": "code",
   "execution_count": 12,
   "id": "7b4d1b48",
   "metadata": {},
   "outputs": [],
   "source": [
    "async def write_report(query: str, search_results: list[str]):\n",
    "    \"\"\" Use the writer agent to write a report based on the search results\"\"\"\n",
    "    print(\"Thinking about report...\")\n",
    "    input = f\"Original query: {query}\\nSummarized search results: {search_results}\"\n",
    "    result = await Runner.run(writer_agent, input)\n",
    "    print(\"Finished writing report\")\n",
    "    return result.final_output\n",
    "\n",
    "async def send_push(report: ReportData):\n",
    "    \"\"\" Use the push agent to send a notification to the user \"\"\"\n",
    "    print(\"Pushing...\")\n",
    "    result = await Runner.run(push_agent, report.short_summary)\n",
    "    print(\"Push sent\")\n",
    "    return report"
   ]
  },
  {
   "cell_type": "markdown",
   "id": "f3c084f0",
   "metadata": {},
   "source": [
    "## The show"
   ]
  },
  {
   "cell_type": "code",
   "execution_count": 14,
   "id": "44c45369",
   "metadata": {},
   "outputs": [
    {
     "name": "stdout",
     "output_type": "stream",
     "text": [
      "Starting research...\n",
      "Planning searches...\n",
      "Will perform 5 searches\n",
      "Searching...\n",
      "Finished searching\n",
      "Thinking about report...\n",
      "Finished writing report\n",
      "Hooray!\n"
     ]
    },
    {
     "data": {
      "text/markdown": [
       "# Research Report on AI Agent Frameworks in May 2025\n",
       "\n",
       "## Overview\n",
       "The rapid evolution and integration of Artificial Intelligence (AI) in business processes have brought forth numerous frameworks designed for developing AI agents. By May 2025, several of these frameworks have distinguished themselves through performance, popularity, and versatility. This report delves into the leading AI agent frameworks, their unique functionalities, and case studies illustrating their applications across industries.\n",
       "\n",
       "## Outline of Report\n",
       "1. **Introduction**  \n",
       "   1.1 Definition of AI Agents  \n",
       "   1.2 Importance of AI Agent Frameworks  \n",
       "\n",
       "2. **Leading AI Agent Frameworks**  \n",
       "   2.1 LangChain  \n",
       "   2.2 AutoGen  \n",
       "   2.3 CrewAI  \n",
       "   2.4 OpenAI Agents SDK  \n",
       "   2.5 Google Agent Development Kit (ADK)  \n",
       "   2.6 Other Notable Frameworks  \n",
       "\n",
       "3. **Industry Applications of AI Agents**  \n",
       "   3.1 Financial Services  \n",
       "   3.2 Healthcare  \n",
       "   3.3 Software Development  \n",
       "   3.4 Retail  \n",
       "\n",
       "4. **Market Trends and Projections**  \n",
       "   4.1 Growth Statistics and Predictions  \n",
       "   4.2 Adoption Rates Across Industries  \n",
       "   4.3 Challenges and Concerns  \n",
       "\n",
       "5. **Conclusion**  \n",
       "   5.1 Summary of Findings  \n",
       "   5.2 Future Directions  \n",
       "\n",
       "6. **References**  \n",
       "\n",
       "## 1. Introduction\n",
       "### 1.1 Definition of AI Agents\n",
       "AI agents are autonomous or semi-autonomous software entities that perform tasks on behalf of users. They can interact with other agents, understand user commands, and manage workflows to execute complex processes efficiently.\n",
       "### 1.2 Importance of AI Agent Frameworks\n",
       "AI agent frameworks provide the underlying structures needed to build, manage, and deploy these agents, making them essential for organizations aiming to leverage AI for process automation and operational efficiency.\n",
       "\n",
       "## 2. Leading AI Agent Frameworks\n",
       "### 2.1 LangChain\n",
       "LangChain is a modular Python framework aimed at building applications with large language models (LLMs). Its key features include:\n",
       "- **Prompt Chaining**: Enables the sequential use of multiple prompts.\n",
       "- **Tool Integration**: Facilitates the incorporation of APIs and other tools.\n",
       "- **Memory Management**: Allows for the retention of information between interactions.\n",
       "\n",
       "As of May 2025, LangChain boasts over 70,000 stars on GitHub, showcasing its popularity among developers.\n",
       "\n",
       "### 2.2 AutoGen\n",
       "Developed by Microsoft, AutoGen focuses on creating multi-agent systems that communicate through natural language. Key attributes include:\n",
       "- **Conversational Coordination**: Agents can interact in a conversation-like manner to collaborate.\n",
       "- **User-Friendly Interface**: Provides tools for prototyping and streamlining agent development.\n",
       "\n",
       "### 2.3 CrewAI\n",
       "CrewAI emphasizes collaborative task execution among AI agents. Major features include:\n",
       "- **Role-Based Task Execution**: Each agent can take on specific roles, simplifying collaborative efforts.\n",
       "- **Quick Deployment**: Minimal setup allows for faster implementation in various sectors.\n",
       "\n",
       "### 2.4 OpenAI Agents SDK\n",
       "The OpenAI Agents SDK is a lightweight framework tailored for multi-agent workflows. Features include:\n",
       "- **Tracing and Guardrails**: Comprehensive tracking of interactions enhances security and debugging.\n",
       "- **Compatibility**: Supports over 100 different LLMs for flexibility in agent design.\n",
       "\n",
       "### 2.5 Google Agent Development Kit (ADK)\n",
       "Emerging in April 2025, the Google ADK integrates seamlessly with Google’s ecosystem. Features include:\n",
       "- **Hierarchical Agent Composition**: Simplifies complex tasks by allowing agents to be arranged in hierarchy.\n",
       "- **Minimal Code Requirement**: Facilitates faster development cycles and reduces complexity.\n",
       "\n",
       "### 2.6 Other Notable Frameworks\n",
       "Other noteworthy frameworks include LangGraph, which focuses on stateful, graph-based agent workflows, and Semantic Kernel, designed for enterprise-grade workflows with a strong focus on security.\n",
       "\n",
       "## 3. Industry Applications of AI Agents\n",
       "### 3.1 Financial Services\n",
       "In the financial sector, a global firm implemented an AI agent system to streamline loan approvals, reducing processing time and cutting operational costs significantly.  \n",
       "### 3.2 Healthcare\n",
       "A large hospital network utilized AI agents for scheduling and insurance verification systematization, which helped decrease the administrative load by 30%.\n",
       "### 3.3 Software Development\n",
       "In technology, firms like Microsoft integrated GitHub's Copilot, allowing AI agents to assist in coding and documentation, leading to a 35% surge in development velocity.\n",
       "### 3.4 Retail\n",
       "Retail companies adopted AI agents to provide personalized shopping assistance, resulting in improved conversion rates and decreased customer support queries.\n",
       "\n",
       "## 4. Market Trends and Projections\n",
       "### 4.1 Growth Statistics and Predictions\n",
       "The global AI agent market is projected to increase from $7.84 billion in 2025 to an astounding $236 billion by 2034, representing a CAGR of 45.8%.  \n",
       "### 4.2 Adoption Rates Across Industries\n",
       "An estimated 85% of enterprises plan to integrate AI agents into their operations by 2025, indicating a shift towards AI-led automation.\n",
       "### 4.3 Challenges and Concerns\n",
       "Challenges including cybersecurity, lack of standardization, and potential data breaches must be addressed to fully realize the benefits of AI agents.\n",
       "\n",
       "## 5. Conclusion\n",
       "### 5.1 Summary of Findings\n",
       "The leading AI agent frameworks as of May 2025 offer diverse functionalities enabling significant automation and efficiency improvements across various domains.\n",
       "### 5.2 Future Directions\n",
       "As the AI agent landscape evolves, ongoing developments will likely focus on enhancing security protocols, expanding integration capabilities, and refining user interfaces for broader accessibility.\n",
       "\n",
       "## 6. References\n",
       "- [ODSC](https://odsc.medium.com/top-10-open-source-ai-agent-frameworks-to-know-in-2025-c739854ec859?utm_source=openai)\n",
       "- [Medium](https://medium.com/%40elisowski/top-ai-agent-frameworks-in-2025-9bcedab2e239?utm_source=openai)\n",
       "- [DataCamp](https://www.datacamp.com/blog/best-ai-agents?utm_source=openai)\n",
       "- [Axios](https://www.axios.com/2025/05/06/ai-agents-identity-security-cyber-threats?utm_source=openai)  \n",
       "- [TechJury](https://techjury.net/industry-analysis/ai-agent-market-size-share/?utm_source=openai)  \n",
       "\n",
       "**Prepared by:** Senior Researcher, AI & Automation Division  \n",
       "**Date:** October 2023  \n",
       "\n",
       "---  \n",
       "This report serves as a detailed overview of the prominent AI agent frameworks as of May 2025, showcasing their capabilities and industry utilization, while also considering market growth and future trends."
      ],
      "text/plain": [
       "<IPython.core.display.Markdown object>"
      ]
     },
     "metadata": {},
     "output_type": "display_data"
    }
   ],
   "source": [
    "query =\"What are the most popular and successful AI Agent frameworks in May 2025\"\n",
    "\n",
    "with trace(\"Research trace\"):\n",
    "    print(\"Starting research...\")\n",
    "    search_plan = await plan_searches(query)\n",
    "    search_results = await perform_searches(search_plan)\n",
    "    report = await write_report(query, search_results)\n",
    "    # await send_push(report)  \n",
    "    print(\"Hooray!\")\n",
    "display(Markdown(report.markdown_report))"
   ]
  },
  {
   "cell_type": "markdown",
   "id": "766b8615",
   "metadata": {},
   "source": [
    "### As always, take a look at the trace\n",
    "\n",
    "https://platform.openai.com/traces"
   ]
  },
  {
   "cell_type": "markdown",
   "id": "9b55bb80",
   "metadata": {},
   "source": []
  }
 ],
 "metadata": {
  "kernelspec": {
   "display_name": ".venv",
   "language": "python",
   "name": "python3"
  },
  "language_info": {
   "codemirror_mode": {
    "name": "ipython",
    "version": 3
   },
   "file_extension": ".py",
   "mimetype": "text/x-python",
   "name": "python",
   "nbconvert_exporter": "python",
   "pygments_lexer": "ipython3",
   "version": "3.11.13"
  }
 },
 "nbformat": 4,
 "nbformat_minor": 5
}
