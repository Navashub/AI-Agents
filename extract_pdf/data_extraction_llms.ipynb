{
 "cells": [
  {
   "cell_type": "code",
   "execution_count": 1,
   "metadata": {},
   "outputs": [
    {
     "name": "stdout",
     "output_type": "stream",
     "text": [
      "\n",
      "\u001b[1m[\u001b[0m\u001b[34;49mnotice\u001b[0m\u001b[1;39;49m]\u001b[0m\u001b[39;49m A new release of pip is available: \u001b[0m\u001b[31;49m24.0\u001b[0m\u001b[39;49m -> \u001b[0m\u001b[32;49m24.2\u001b[0m\n",
      "\u001b[1m[\u001b[0m\u001b[34;49mnotice\u001b[0m\u001b[1;39;49m]\u001b[0m\u001b[39;49m To update, run: \u001b[0m\u001b[32;49mpip install --upgrade pip\u001b[0m\n",
      "\n",
      "\u001b[1m[\u001b[0m\u001b[34;49mnotice\u001b[0m\u001b[1;39;49m]\u001b[0m\u001b[39;49m A new release of pip is available: \u001b[0m\u001b[31;49m24.0\u001b[0m\u001b[39;49m -> \u001b[0m\u001b[32;49m24.2\u001b[0m\n",
      "\u001b[1m[\u001b[0m\u001b[34;49mnotice\u001b[0m\u001b[1;39;49m]\u001b[0m\u001b[39;49m To update, run: \u001b[0m\u001b[32;49mpip install --upgrade pip\u001b[0m\n"
     ]
    }
   ],
   "source": [
    "!pip3 install --upgrade --quiet langchain langchain-community langchain-openai chromadb \n",
    "!pip3 install --upgrade --quiet pypdf pandas streamlit python-dotenv"
   ]
  },
  {
   "cell_type": "code",
   "execution_count": 1,
   "metadata": {},
   "outputs": [
    {
     "name": "stderr",
     "output_type": "stream",
     "text": [
      "d:\\AI-Agents\\extract_pdf\\.venv\\Lib\\site-packages\\tqdm\\auto.py:21: TqdmWarning: IProgress not found. Please update jupyter and ipywidgets. See https://ipywidgets.readthedocs.io/en/stable/user_install.html\n",
      "  from .autonotebook import tqdm as notebook_tqdm\n"
     ]
    }
   ],
   "source": [
    "# Import Langchain modules\n",
    "from langchain.document_loaders import PyPDFLoader\n",
    "from langchain.text_splitter import RecursiveCharacterTextSplitter\n",
    "from langchain_openai import OpenAIEmbeddings, ChatOpenAI\n",
    "from langchain_google_genai import ChatGoogleGenerativeAI, GoogleGenerativeAIEmbeddings\n",
    "from langchain.vectorstores import Chroma\n",
    "from langchain_core.runnables import RunnablePassthrough\n",
    "from langchain_core.prompts import ChatPromptTemplate\n",
    "from langchain_core.pydantic_v1 import BaseModel, Field\n",
    "\n",
    "# Other modules and packages\n",
    "import os\n",
    "import tempfile\n",
    "import streamlit as st  \n",
    "import pandas as pd\n",
    "from dotenv import load_dotenv"
   ]
  },
  {
   "cell_type": "code",
   "execution_count": 2,
   "metadata": {},
   "outputs": [
    {
     "data": {
      "text/plain": [
       "True"
      ]
     },
     "execution_count": 2,
     "metadata": {},
     "output_type": "execute_result"
    }
   ],
   "source": [
    "load_dotenv()"
   ]
  },
  {
   "cell_type": "code",
   "execution_count": 3,
   "metadata": {},
   "outputs": [],
   "source": [
    "GOOGLE_API_KEY = os.environ.get(\"GOOGLE_API_KEY\")"
   ]
  },
  {
   "cell_type": "markdown",
   "metadata": {},
   "source": [
    "## Define our LLM"
   ]
  },
  {
   "cell_type": "code",
   "execution_count": 26,
   "metadata": {},
   "outputs": [
    {
     "data": {
      "text/plain": [
       "AIMessage(content='Why are cats such bad dancers?  Because they have two left feet… and two left paws!\\n', response_metadata={'prompt_feedback': {'block_reason': 0, 'safety_ratings': []}, 'finish_reason': 'STOP', 'safety_ratings': []}, id='run-89f9afdc-67e0-4c1c-9c0b-2ea539eda3c1-0', usage_metadata={'input_tokens': 6, 'output_tokens': 21, 'total_tokens': 27})"
      ]
     },
     "execution_count": 26,
     "metadata": {},
     "output_type": "execute_result"
    }
   ],
   "source": [
    "llm = ChatGoogleGenerativeAI(\n",
    "    model=\"gemini-1.5-flash\", \n",
    "    google_api_key=GOOGLE_API_KEY\n",
    ")\n",
    "llm.invoke(\"Tell me a joke about cats\")"
   ]
  },
  {
   "cell_type": "markdown",
   "metadata": {},
   "source": [
    "## Process PDF document"
   ]
  },
  {
   "cell_type": "markdown",
   "metadata": {},
   "source": [
    "### Load PDF document"
   ]
  },
  {
   "cell_type": "code",
   "execution_count": 27,
   "metadata": {},
   "outputs": [
    {
     "name": "stderr",
     "output_type": "stream",
     "text": [
      "Ignoring wrong pointing object 18 0 (offset 0)\n"
     ]
    },
    {
     "data": {
      "text/plain": [
       "[Document(metadata={'source': 'D:\\\\AI-Agents\\\\extract_pdf\\\\data\\\\Oppenheimer-2006-Applied_Cognitive_Psychology.pdf', 'page': 0}, page_content='APPLIED COGNITIVE PSYCHOLOGYAppl. Cognit. Psychol.20: 139–156 (2006)Published online 31 October 2005 in Wiley InterScience(www.interscience.wiley.com) DOI: 10.1002/acp.1178Consequences of Erudite Vernacular Utilized Irrespectiveof Necessity: Problems with Using Long Words NeedlesslyDANIEL M. OPPENHEIMER*Princeton University, USASUMMARYMost texts on writing style encourage authors to avoid overly-complex words. However, a majorityof undergraduates admit to deliberately increasing the complexity of their vocabulary so as to givethe impression of intelligence. This paper explores the extent to which this strategy is effective.Experiments 1–3 manipulate complexity of texts and ﬁnd a negative relationship between complex-ity and judged intelligence. This relationship held regardless of the quality of the original essay, andirrespective of the participants’ prior expectations of essay quality. The negative impact ofcomplexity was mediated by processing ﬂuency. Experiment 4 directly manipulated ﬂuency andfound that texts in hard to read fonts are judged to come from less intelligent authors. Experiment 5investigated discounting of ﬂuency. When obvious causes for low ﬂuency exist that are not relevantto the judgement at hand, people reduce their reliance on ﬂuency as a cue; in fact, in an effort not tobe inﬂuenced by the irrelevant source of ﬂuency, they over-compensate and are biased in the oppositedirection. Implications and applications are discussed. Copyright#2005 John Wiley & Sons, Ltd.When it comes to writing, most experts agree that clarity, simplicity and parsimony areideals that authors should strive for. In their classic manual of style, Strunk and White(1979) encourage authors to ‘omit needless words.’ Daryl Bem’s (1995) guidelines forsubmission toPsychological Bulletinadvise, ‘the ﬁrst step towards clarity is writingsimply.’ Even the APA publication manual (1996) recommends, ‘direct, declarativesentences with simple common words are usually best.’However, most of us can likely recall having read papers, either by colleagues orstudents, in which the author appears to be deliberately using overly complex words.Experience suggests that the experts’ advice contrasts with prevailing wisdom on how tosound more intelligent as a writer. In fact, when 110 Stanford undergraduates were polledabout their writing habits, most of them admitted that they had made their writing morecomplex in order to appear smarter. For example, when asked, ‘Have you ever changed thewords in an academic essay to make the essay sound more valid or intelligent by usingcomplicated language?’ 86.4% of the sample admitted to having done so. Nearly two-thirds answered yes to the question, ‘When you write an essay, do you turn to the thesaurusto choose words that are more complex to give the impression that the content is morevalid or intelligent?’Copyright#2005 John Wiley & Sons, Ltd.*Correspondence to: D. M. Oppenheimer, Department of Psychology, Princeton University, Green Hall Room2-S-8, Princeton, NJ 08540, USA. E-mail: doppenhe@princeton.edu'),\n",
       " Document(metadata={'source': 'D:\\\\AI-Agents\\\\extract_pdf\\\\data\\\\Oppenheimer-2006-Applied_Cognitive_Psychology.pdf', 'page': 1}, page_content='There are many plausible reasons that the use of million-dollar words would leadreaders to believe that an author is smart. Intelligence and large vocabularies are positivelycorrelated (Spearman, 1904). Therefore, by displaying a large vocabulary, one may beproviding cues that he or she is intelligent as well. Secondly, writers are assumed to beconforming to the Gricean maxim of manner, ‘avoid obscurity of expression’ (Grice,1975). If authors are believed to be writing as simply as possible, but a text is nonethelesscomplex, a reader might believe that the ideas expressed in that text are also complex,defying all attempts to simplify the language. Further, individuals forced to strugglethrough a complex text might experience dissonance if they believe that the ideas beingconveyed are simple (Festinger, 1957). Thus, individuals might be motivated to perceive adifﬁcult text as being more worthwhile, thereby justifying the effort of processing.Indeed, there is some evidence that complex vocabulary can be indicative of a moreintelligent author. For example, Pennebaker and King (1999) have shown that thepercentage of long words used in class assignments positively correlates with SATscores and exam grades on both multiple choice and essay tests. However it is difﬁcultto draw conclusions about the effectivenessof a strategy of complexity from this data.The study did not look at how readers of the texts containing the long words perceivedthe authors’ intelligence. Thus, it is possible that although students using complexvocabularies are objectively very knowledgeable, they might nonetheless be perceivedas being less so.Why might we believe that the experts might be correct in recommending simplicity inwriting? One theory that predicts the effectiveness of straightforward writing is that ofprocessing ﬂuency. Simpler writing is easier to process, and studies have demonstratedthat processing ﬂuency is associated with a variety of positive dimensions. Fluency leadsto higher judgements of truth (Reber & Schwarz, 1999), conﬁdence (Norwick & Epley,2002), frequency (Tversky & Kahneman, 1973), fame (Jacoby, Kelley, Brown, &Jasechko, 1989), and even liking (Reber, Winkielman, & Schwarz, 1998). Furthermore,the effects of ﬂuency are strongest when the ﬂuency is discrepant—when the amount ofexperienced ﬂuency is surprising (Whittlesea & Williams, 2001a, 2001b). As such, itwould not be surprising if the lower ﬂuency of overly complex texts caused readers to havenegative evaluations of those texts and the associated authors, especially if the complexitywas unnecessary and thus surprising readers with the relative disﬂuency of the text.Both the experts and prevailing wisdom present plausible views, but which (if either) iscorrect? The present paper provides an empirical investigation of the strategy of complex-ity, and ﬁnds such a strategy to be unsuccessful. Five studies demonstrate that the loss ofﬂuency due to needless complexity in a text negatively impacts raters’ assessments of thetext’s authors.EXPERIMENT 1Experiment 1 aimed to answer several simple questions. First, does increasing thecomplexity of text succeed in making the author appear more intelligent? Second, towhat extent does the success of this strategy depend on the quality of the original, simplerwriting? Finally, if the strategy is unsuccessful, is the failure of the strategy due to loss ofﬂuency? To answer these questions, graduate school admission essays were made morecomplex by substituting some of the original words with their longest applicable thesaurusentries.140D. M. Oppenheimer\\nCopyright#2005 John Wiley & Sons, Ltd. Appl. Cognit. Psychol. 20: 139–156 (2006)'),\n",
       " Document(metadata={'source': 'D:\\\\AI-Agents\\\\extract_pdf\\\\data\\\\Oppenheimer-2006-Applied_Cognitive_Psychology.pdf', 'page': 2}, page_content='While word length is not perfectly interchangeable with sentence complexity—forexample, complexity can come from grammatical structure or infrequent words aswell—it is a useful proxy. Using length as a manipulation of complexity allows for asimple, easily replicable word replacement algorithm. By keeping content constant andvarying the complexity of vocabulary, it was possible to investigate the effectiveness ofcomplexity.Participants and procedureSeventy-one Stanford University undergraduates participated to fulﬁl part of a courserequirement. The survey was included in a packet of unrelated one-page questionnaires.Packets were distributed in class, and participants were given a week to complete the entirepacket.Stimuli and designSix personal statements for admissions to graduate studies in English Literature weredownloaded from writing improvement websites. The essays varied greatly both in contentand quality of writing. Logical excerpts ranging from 138 to 253 words in length were thentaken from each essay. A ‘highly complex’ version of each excerpt was prepared byreplacing every noun, verb and adjective with its longest entry in the Microsoft Word 2000thesaurus. Words that were longer than any thesaurus entry, were not listed in thethesaurus, or for which there was no entry with the same linguistic sense were notreplaced. If two entries were of the same length, the replacement was chosen alphabe-tically. When necessary, minor modiﬁcations were made to the essay to maintain thegrammatical structure of a sentence (e.g. replacing ‘an’ with ‘a’ for replacement wordsbeginning with consonants). A ‘moderately complex’ version of each excerpt was createdusing the same algorithm as above, except replacing only every third applicable word.Examples of the stimuli can be found in the appendix.Each participant received only one excerpt. Participants were informed that the excerptcame from a personal statement for graduate study in the Stanford English department.They were instructed to read the passage, decide whether or not to accept the applicant,and rate their conﬁdence in their decision on a 7-point scale.1They were then asked howdifﬁcult the passage was to understand, also on a seven-point scale.ResultsThe data of one participant was discarded due to an illegible answer. Analysis of themanipulation check showed that more complex texts were more difﬁcult to read. (x¼2.9,4.0 and 4.3 for simple, moderately complex and highly complex, respectively). Thesedifferences were reliable,F(2, 68)¼4.46,p<0.05, Cohen’sf¼0.18. For other analyses,acceptance ratings (þ1 for accept,/C01 for reject) were multiplied by conﬁdence ratings tocreate a/C07 to 7 scale of admission conﬁdence. Level of complexity had a reliableinﬂuence on admission conﬁdence ratings,F(2, 70)¼2.46,p<0.05, Cohen’sf¼0.12.1With the exception of the dichotomous admissions decision, all dependent measures reported in this paper areseven point scales ranging from 1¼‘not at all’ to 7¼‘very’.Problems with long words141\\nCopyright#2005 John Wiley & Sons, Ltd. Appl. Cognit. Psychol. 20: 139–156 (2006)')]"
      ]
     },
     "execution_count": 27,
     "metadata": {},
     "output_type": "execute_result"
    }
   ],
   "source": [
    "loader = PyPDFLoader(\"D:\\AI-Agents\\extract_pdf\\data\\Oppenheimer-2006-Applied_Cognitive_Psychology.pdf\")\n",
    "pages = loader.load()\n",
    "pages"
   ]
  },
  {
   "cell_type": "code",
   "execution_count": 28,
   "metadata": {},
   "outputs": [
    {
     "name": "stdout",
     "output_type": "stream",
     "text": [
      "Checking if PDF exists at: D:\\AI-Agents\\extract_pdf\\data\\Oppenheimer-2006-Applied_Cognitive_Psychology.pdf\n",
      "File exists: True\n",
      "File size: 44271 bytes\n"
     ]
    }
   ],
   "source": [
    "pdf_path = \"D:\\AI-Agents\\extract_pdf\\data\\Oppenheimer-2006-Applied_Cognitive_Psychology.pdf\"  # Update this path\n",
    "print(f\"Checking if PDF exists at: {pdf_path}\")\n",
    "print(f\"File exists: {os.path.exists(pdf_path)}\")\n",
    "\n",
    "if os.path.exists(pdf_path):\n",
    "    # Get file size\n",
    "    file_size = os.path.getsize(pdf_path)\n",
    "    print(f\"File size: {file_size} bytes\")\n",
    "else:\n",
    "    print(\"❌ PDF file not found! Please check the path.\")\n",
    "    # List files in the current directory\n",
    "    print(\"Files in current directory:\")\n",
    "    for file in os.listdir(\".\"):\n",
    "        if file.endswith('.pdf'):\n",
    "            print(f\"  📄 {file}\")"
   ]
  },
  {
   "cell_type": "code",
   "execution_count": 29,
   "metadata": {},
   "outputs": [
    {
     "name": "stderr",
     "output_type": "stream",
     "text": [
      "Ignoring wrong pointing object 18 0 (offset 0)\n"
     ]
    },
    {
     "name": "stdout",
     "output_type": "stream",
     "text": [
      "✅ Successfully loaded PDF with 3 pages\n",
      "\n",
      "📄 First page metadata: {'source': 'D:\\\\AI-Agents\\\\extract_pdf\\\\data\\\\Oppenheimer-2006-Applied_Cognitive_Psychology.pdf', 'page': 0}\n",
      "📄 First page content length: 3069\n",
      "📄 First 300 characters of first page:\n",
      "APPLIED COGNITIVE PSYCHOLOGYAppl. Cognit. Psychol.20: 139–156 (2006)Published online 31 October 2005 in Wiley InterScience(www.interscience.wiley.com) DOI: 10.1002/acp.1178Consequences of Erudite Vernacular Utilized Irrespectiveof Necessity: Problems with Using Long Words NeedlesslyDANIEL M. OPPENHE\n",
      "...\n",
      "⚠️ Warning: PDF content might not contain expected terms\n"
     ]
    }
   ],
   "source": [
    "try:\n",
    "    loader = PyPDFLoader(pdf_path)\n",
    "    pages = loader.load()\n",
    "    \n",
    "    print(f\"✅ Successfully loaded PDF with {len(pages)} pages\")\n",
    "    \n",
    "    # Inspect the first page\n",
    "    if pages:\n",
    "        first_page = pages[0]\n",
    "        print(f\"\\n📄 First page metadata: {first_page.metadata}\")\n",
    "        print(f\"📄 First page content length: {len(first_page.page_content)}\")\n",
    "        print(f\"📄 First 300 characters of first page:\")\n",
    "        print(first_page.page_content[:300])\n",
    "        print(\"...\")\n",
    "        \n",
    "        # Check if content looks reasonable\n",
    "        if len(first_page.page_content) < 100:\n",
    "            print(\"⚠️ Warning: Page content seems very short. PDF might not be loading correctly.\")\n",
    "        \n",
    "        # Look for expected content (adjust based on your PDF)\n",
    "        if \"title\" in first_page.page_content.lower() or \"abstract\" in first_page.page_content.lower():\n",
    "            print(\"✅ PDF content looks good - found expected terms\")\n",
    "        else:\n",
    "            print(\"⚠️ Warning: PDF content might not contain expected terms\")\n",
    "    else:\n",
    "        print(\"❌ No pages loaded from PDF\")\n",
    "        \n",
    "except Exception as e:\n",
    "    print(f\"❌ Error loading PDF: {str(e)}\")"
   ]
  },
  {
   "cell_type": "code",
   "execution_count": 30,
   "metadata": {},
   "outputs": [
    {
     "name": "stdout",
     "output_type": "stream",
     "text": [
      "✅ Created 11 chunks\n",
      "\n",
      "📝 Chunk 1:\n",
      "   Length: 1498\n",
      "   Metadata: {'source': 'D:\\\\AI-Agents\\\\extract_pdf\\\\data\\\\Oppenheimer-2006-Applied_Cognitive_Psychology.pdf', 'page': 0}\n",
      "   Content preview: APPLIED COGNITIVE PSYCHOLOGYAppl. Cognit. Psychol.20: 139–156 (2006)Published online 31 October 2005 in Wiley InterScience(www.interscience.wiley.com) DOI: 10.1002/acp.1178Consequences of Erudite Vern...\n",
      "\n",
      "📝 Chunk 2:\n",
      "   Length: 1497\n",
      "   Metadata: {'source': 'D:\\\\AI-Agents\\\\extract_pdf\\\\data\\\\Oppenheimer-2006-Applied_Cognitive_Psychology.pdf', 'page': 0}\n",
      "   Content preview: an effort not tobe inﬂuenced by the irrelevant source of ﬂuency, they over-compensate and are biased in the oppositedirection. Implications and applications are discussed. Copyright#2005 John Wiley & ...\n",
      "\n",
      "📝 Chunk 3:\n",
      "   Length: 471\n",
      "   Metadata: {'source': 'D:\\\\AI-Agents\\\\extract_pdf\\\\data\\\\Oppenheimer-2006-Applied_Cognitive_Psychology.pdf', 'page': 0}\n",
      "   Content preview: language?’ 86.4% of the sample admitted to having done so. Nearly two-thirds answered yes to the question, ‘When you write an essay, do you turn to the thesaurusto choose words that are more complex t...\n",
      "\n",
      "📊 Total content across all chunks: 11018 characters\n"
     ]
    }
   ],
   "source": [
    "if 'pages' in locals() and pages:\n",
    "    text_splitter = RecursiveCharacterTextSplitter(\n",
    "        chunk_size=1500,\n",
    "        chunk_overlap=200,\n",
    "        length_function=len,\n",
    "        separators=[\"\\n\\n\", \"\\n\", \" \"]\n",
    "    )\n",
    "    chunks = text_splitter.split_documents(pages)\n",
    "    \n",
    "    print(f\"✅ Created {len(chunks)} chunks\")\n",
    "    \n",
    "    # Inspect first few chunks\n",
    "    for i, chunk in enumerate(chunks[:3]):  # Show first 3 chunks\n",
    "        print(f\"\\n📝 Chunk {i+1}:\")\n",
    "        print(f\"   Length: {len(chunk.page_content)}\")\n",
    "        print(f\"   Metadata: {chunk.metadata}\")\n",
    "        print(f\"   Content preview: {chunk.page_content[:200]}...\")\n",
    "        \n",
    "    # Check if chunks contain useful content\n",
    "    total_content = sum(len(chunk.page_content) for chunk in chunks)\n",
    "    print(f\"\\n📊 Total content across all chunks: {total_content} characters\")\n",
    "else:\n",
    "    print(\"❌ Cannot create chunks - pages not loaded successfully\")\n"
   ]
  },
  {
   "cell_type": "markdown",
   "metadata": {},
   "source": [
    "### Split document"
   ]
  },
  {
   "cell_type": "code",
   "execution_count": 31,
   "metadata": {},
   "outputs": [],
   "source": [
    "text_splitter = RecursiveCharacterTextSplitter(chunk_size=1500,\n",
    "                                            chunk_overlap=200,\n",
    "                                            length_function=len,\n",
    "                                            separators=[\"\\n\\n\", \"\\n\", \" \"])\n",
    "chunks = text_splitter.split_documents(pages)"
   ]
  },
  {
   "cell_type": "markdown",
   "metadata": {},
   "source": [
    "### Create embeddings"
   ]
  },
  {
   "cell_type": "code",
   "execution_count": 32,
   "metadata": {},
   "outputs": [
    {
     "name": "stdout",
     "output_type": "stream",
     "text": [
      "Embedding dimension: 768\n"
     ]
    }
   ],
   "source": [
    "def get_embedding_function():\n",
    "    embeddings = GoogleGenerativeAIEmbeddings(\n",
    "        model=\"models/embedding-001\", \n",
    "        google_api_key=GOOGLE_API_KEY\n",
    "    )\n",
    "    return embeddings\n",
    "\n",
    "embedding_function = get_embedding_function()\n",
    "\n",
    "test_vector = embedding_function.embed_query(\"cat\")\n",
    "print(f\"Embedding dimension: {len(test_vector)}\")"
   ]
  },
  {
   "cell_type": "code",
   "execution_count": 33,
   "metadata": {},
   "outputs": [
    {
     "data": {
      "text/plain": [
       "{'score': 0.0998730011025093}"
      ]
     },
     "execution_count": 33,
     "metadata": {},
     "output_type": "execute_result"
    }
   ],
   "source": [
    "from langchain.evaluation import load_evaluator\n",
    "\n",
    "evaluator = load_evaluator(evaluator=\"embedding_distance\", \n",
    "                            embeddings=embedding_function)\n",
    "\n",
    "evaluator.evaluate_strings(prediction=\"Amsterdam\", reference=\"coffeeshop\")"
   ]
  },
  {
   "cell_type": "code",
   "execution_count": 34,
   "metadata": {},
   "outputs": [
    {
     "data": {
      "text/plain": [
       "{'score': 0.0969643258695102}"
      ]
     },
     "execution_count": 34,
     "metadata": {},
     "output_type": "execute_result"
    }
   ],
   "source": [
    "evaluator.evaluate_strings(prediction=\"Paris\", reference=\"coffeeshop\")"
   ]
  },
  {
   "cell_type": "markdown",
   "metadata": {},
   "source": [
    "### Create vector database"
   ]
  },
  {
   "cell_type": "code",
   "execution_count": 35,
   "metadata": {},
   "outputs": [],
   "source": [
    "import uuid\n",
    "\n",
    "def create_vectorstore(chunks, embedding_function, vectorstore_path=\"vectorstore_db\"):\n",
    "    # Create a list of unique ids for each document based on the content\n",
    "    ids = [str(uuid.uuid5(uuid.NAMESPACE_DNS, doc.page_content)) for doc in chunks]\n",
    "    \n",
    "    # Ensure that only unique docs with unique ids are kept\n",
    "    unique_ids = set()\n",
    "    unique_chunks = []\n",
    "    \n",
    "    for chunk, id in zip(chunks, ids):     \n",
    "        if id not in unique_ids:       \n",
    "            unique_ids.add(id)\n",
    "            unique_chunks.append(chunk)        \n",
    "\n",
    "    print(f\"Number of unique chunks: {len(unique_chunks)}\")\n",
    "    \n",
    "    # Create a new Chroma database from the documents\n",
    "    vectorstore = Chroma.from_documents(\n",
    "        documents=unique_chunks, \n",
    "        embedding=embedding_function, \n",
    "        ids=list(unique_ids), \n",
    "        persist_directory=vectorstore_path\n",
    "    )\n",
    "\n",
    "    vectorstore.persist()\n",
    "    print(f\"Vectorstore created at {vectorstore_path} with {vectorstore._collection.count()} documents\")\n",
    "    \n",
    "    return vectorstore"
   ]
  },
  {
   "cell_type": "code",
   "execution_count": 36,
   "metadata": {},
   "outputs": [
    {
     "name": "stdout",
     "output_type": "stream",
     "text": [
      "Number of unique chunks: 10\n",
      "Vectorstore created at vectorstore_db with 10 documents\n"
     ]
    }
   ],
   "source": [
    "vectorstore = create_vectorstore(\n",
    "    chunks=chunks, \n",
    "    embedding_function=embedding_function, \n",
    "    vectorstore_path=\"vectorstore_db\"\n",
    ")"
   ]
  },
  {
   "cell_type": "markdown",
   "metadata": {},
   "source": [
    "## 2. Query for relevant data"
   ]
  },
  {
   "cell_type": "code",
   "execution_count": 37,
   "metadata": {},
   "outputs": [
    {
     "name": "stdout",
     "output_type": "stream",
     "text": [
      "Loaded vectorstore with 10 documents\n"
     ]
    }
   ],
   "source": [
    "\n",
    "vectorstore = Chroma(\n",
    "    persist_directory=\"vectorstore_db\", \n",
    "    embedding_function=embedding_function\n",
    ")\n",
    "print(f\"Loaded vectorstore with {vectorstore._collection.count()} documents\")"
   ]
  },
  {
   "cell_type": "code",
   "execution_count": 38,
   "metadata": {},
   "outputs": [
    {
     "data": {
      "text/plain": [
       "[Document(metadata={'page': 1, 'source': 'D:\\\\AI-Agents\\\\extract_pdf\\\\data\\\\Oppenheimer-2006-Applied_Cognitive_Psychology.pdf'}, page_content='Copyright#2005 John Wiley & Sons, Ltd. Appl. Cognit. Psychol. 20: 139–156 (2006)'),\n",
       " Document(metadata={'page': 2, 'source': 'D:\\\\AI-Agents\\\\extract_pdf\\\\data\\\\Oppenheimer-2006-Applied_Cognitive_Psychology.pdf'}, page_content='the same linguistic sense were notreplaced. If two entries were of the same length, the replacement was chosen alphabe-tically. When necessary, minor modiﬁcations were made to the essay to maintain thegrammatical structure of a sentence (e.g. replacing ‘an’ with ‘a’ for replacement wordsbeginning with consonants). A ‘moderately complex’ version of each excerpt was createdusing the same algorithm as above, except replacing only every third applicable word.Examples of the stimuli can be found in the appendix.Each participant received only one excerpt. Participants were informed that the excerptcame from a personal statement for graduate study in the Stanford English department.They were instructed to read the passage, decide whether or not to accept the applicant,and rate their conﬁdence in their decision on a 7-point scale.1They were then asked howdifﬁcult the passage was to understand, also on a seven-point scale.ResultsThe data of one participant was discarded due to an illegible answer. Analysis of themanipulation check showed that more complex texts were more difﬁcult to read. (x¼2.9,4.0 and 4.3 for simple, moderately complex and highly complex, respectively). Thesedifferences were reliable,F(2, 68)¼4.46,p<0.05, Cohen’sf¼0.18. For other analyses,acceptance ratings (þ1 for accept,/C01 for reject) were multiplied by conﬁdence ratings tocreate a/C07 to 7 scale of admission conﬁdence. Level of complexity had a reliableinﬂuence on admission conﬁdence ratings,F(2,'),\n",
       " Document(metadata={'page': 0, 'source': 'D:\\\\AI-Agents\\\\extract_pdf\\\\data\\\\Oppenheimer-2006-Applied_Cognitive_Psychology.pdf'}, page_content='APPLIED COGNITIVE PSYCHOLOGYAppl. Cognit. Psychol.20: 139–156 (2006)Published online 31 October 2005 in Wiley InterScience(www.interscience.wiley.com) DOI: 10.1002/acp.1178Consequences of Erudite Vernacular Utilized Irrespectiveof Necessity: Problems with Using Long Words NeedlesslyDANIEL M. OPPENHEIMER*Princeton University, USASUMMARYMost texts on writing style encourage authors to avoid overly-complex words. However, a majorityof undergraduates admit to deliberately increasing the complexity of their vocabulary so as to givethe impression of intelligence. This paper explores the extent to which this strategy is effective.Experiments 1–3 manipulate complexity of texts and ﬁnd a negative relationship between complex-ity and judged intelligence. This relationship held regardless of the quality of the original essay, andirrespective of the participants’ prior expectations of essay quality. The negative impact ofcomplexity was mediated by processing ﬂuency. Experiment 4 directly manipulated ﬂuency andfound that texts in hard to read fonts are judged to come from less intelligent authors. Experiment 5investigated discounting of ﬂuency. When obvious causes for low ﬂuency exist that are not relevantto the judgement at hand, people reduce their reliance on ﬂuency as a cue; in fact, in an effort not tobe inﬂuenced by the irrelevant source of ﬂuency, they over-compensate and are biased in the oppositedirection. Implications and applications are discussed. Copyright#2005 John Wiley &'),\n",
       " Document(metadata={'page': 2, 'source': 'D:\\\\AI-Agents\\\\extract_pdf\\\\data\\\\Oppenheimer-2006-Applied_Cognitive_Psychology.pdf'}, page_content='(þ1 for accept,/C01 for reject) were multiplied by conﬁdence ratings tocreate a/C07 to 7 scale of admission conﬁdence. Level of complexity had a reliableinﬂuence on admission conﬁdence ratings,F(2, 70)¼2.46,p<0.05, Cohen’sf¼0.12.1With the exception of the dichotomous admissions decision, all dependent measures reported in this paper areseven point scales ranging from 1¼‘not at all’ to 7¼‘very’.Problems with long words141'),\n",
       " Document(metadata={'page': 1, 'source': 'D:\\\\AI-Agents\\\\extract_pdf\\\\data\\\\Oppenheimer-2006-Applied_Cognitive_Psychology.pdf'}, page_content='surprising readers with the relative disﬂuency of the text.Both the experts and prevailing wisdom present plausible views, but which (if either) iscorrect? The present paper provides an empirical investigation of the strategy of complex-ity, and ﬁnds such a strategy to be unsuccessful. Five studies demonstrate that the loss ofﬂuency due to needless complexity in a text negatively impacts raters’ assessments of thetext’s authors.EXPERIMENT 1Experiment 1 aimed to answer several simple questions. First, does increasing thecomplexity of text succeed in making the author appear more intelligent? Second, towhat extent does the success of this strategy depend on the quality of the original, simplerwriting? Finally, if the strategy is unsuccessful, is the failure of the strategy due to loss ofﬂuency? To answer these questions, graduate school admission essays were made morecomplex by substituting some of the original words with their longest applicable thesaurusentries.140D. M. Oppenheimer')]"
      ]
     },
     "execution_count": 38,
     "metadata": {},
     "output_type": "execute_result"
    }
   ],
   "source": [
    "# Create retriever and get relevant chunks\n",
    "retriever = vectorstore.as_retriever(search_type=\"similarity\",search_kwargs={\"k\": 5})\n",
    "relevant_chunks = retriever.invoke(\"What is the title of the paper?\")\n",
    "relevant_chunks"
   ]
  },
  {
   "cell_type": "code",
   "execution_count": 39,
   "metadata": {},
   "outputs": [],
   "source": [
    "# Prompt template\n",
    "PROMPT_TEMPLATE = \"\"\"\n",
    "You are an assistant for question-answering tasks.\n",
    "Use the following pieces of retrieved context to answer\n",
    "the question. If you don't know the answer, say that you\n",
    "don't know. DON'T MAKE UP ANYTHING.\n",
    "\n",
    "{context}\n",
    "\n",
    "---\n",
    "\n",
    "Answer the question based on the above context: {question}\n",
    "\"\"\""
   ]
  },
  {
   "cell_type": "markdown",
   "metadata": {},
   "source": [
    "## 3. Generate responses"
   ]
  },
  {
   "cell_type": "code",
   "execution_count": 40,
   "metadata": {},
   "outputs": [
    {
     "name": "stdout",
     "output_type": "stream",
     "text": [
      "Human: \n",
      "You are an assistant for question-answering tasks.\n",
      "Use the following pieces of retrieved context to answer\n",
      "the question. If you don't know the answer, say that you\n",
      "don't know. DON'T MAKE UP ANYTHING.\n",
      "\n",
      "Copyright#2005 John Wiley & Sons, Ltd. Appl. Cognit. Psychol. 20: 139–156 (2006)\n",
      "\n",
      "---\n",
      "\n",
      "the same linguistic sense were notreplaced. If two entries were of the same length, the replacement was chosen alphabe-tically. When necessary, minor modiﬁcations were made to the essay to maintain thegrammatical structure of a sentence (e.g. replacing ‘an’ with ‘a’ for replacement wordsbeginning with consonants). A ‘moderately complex’ version of each excerpt was createdusing the same algorithm as above, except replacing only every third applicable word.Examples of the stimuli can be found in the appendix.Each participant received only one excerpt. Participants were informed that the excerptcame from a personal statement for graduate study in the Stanford English department.They were instructed to read the passage, decide whether or not to accept the applicant,and rate their conﬁdence in their decision on a 7-point scale.1They were then asked howdifﬁcult the passage was to understand, also on a seven-point scale.ResultsThe data of one participant was discarded due to an illegible answer. Analysis of themanipulation check showed that more complex texts were more difﬁcult to read. (x¼2.9,4.0 and 4.3 for simple, moderately complex and highly complex, respectively). Thesedifferences were reliable,F(2, 68)¼4.46,p<0.05, Cohen’sf¼0.18. For other analyses,acceptance ratings (þ1 for accept,/C01 for reject) were multiplied by conﬁdence ratings tocreate a/C07 to 7 scale of admission conﬁdence. Level of complexity had a reliableinﬂuence on admission conﬁdence ratings,F(2,\n",
      "\n",
      "---\n",
      "\n",
      "APPLIED COGNITIVE PSYCHOLOGYAppl. Cognit. Psychol.20: 139–156 (2006)Published online 31 October 2005 in Wiley InterScience(www.interscience.wiley.com) DOI: 10.1002/acp.1178Consequences of Erudite Vernacular Utilized Irrespectiveof Necessity: Problems with Using Long Words NeedlesslyDANIEL M. OPPENHEIMER*Princeton University, USASUMMARYMost texts on writing style encourage authors to avoid overly-complex words. However, a majorityof undergraduates admit to deliberately increasing the complexity of their vocabulary so as to givethe impression of intelligence. This paper explores the extent to which this strategy is effective.Experiments 1–3 manipulate complexity of texts and ﬁnd a negative relationship between complex-ity and judged intelligence. This relationship held regardless of the quality of the original essay, andirrespective of the participants’ prior expectations of essay quality. The negative impact ofcomplexity was mediated by processing ﬂuency. Experiment 4 directly manipulated ﬂuency andfound that texts in hard to read fonts are judged to come from less intelligent authors. Experiment 5investigated discounting of ﬂuency. When obvious causes for low ﬂuency exist that are not relevantto the judgement at hand, people reduce their reliance on ﬂuency as a cue; in fact, in an effort not tobe inﬂuenced by the irrelevant source of ﬂuency, they over-compensate and are biased in the oppositedirection. Implications and applications are discussed. Copyright#2005 John Wiley &\n",
      "\n",
      "---\n",
      "\n",
      "(þ1 for accept,/C01 for reject) were multiplied by conﬁdence ratings tocreate a/C07 to 7 scale of admission conﬁdence. Level of complexity had a reliableinﬂuence on admission conﬁdence ratings,F(2, 70)¼2.46,p<0.05, Cohen’sf¼0.12.1With the exception of the dichotomous admissions decision, all dependent measures reported in this paper areseven point scales ranging from 1¼‘not at all’ to 7¼‘very’.Problems with long words141\n",
      "\n",
      "---\n",
      "\n",
      "surprising readers with the relative disﬂuency of the text.Both the experts and prevailing wisdom present plausible views, but which (if either) iscorrect? The present paper provides an empirical investigation of the strategy of complex-ity, and ﬁnds such a strategy to be unsuccessful. Five studies demonstrate that the loss ofﬂuency due to needless complexity in a text negatively impacts raters’ assessments of thetext’s authors.EXPERIMENT 1Experiment 1 aimed to answer several simple questions. First, does increasing thecomplexity of text succeed in making the author appear more intelligent? Second, towhat extent does the success of this strategy depend on the quality of the original, simplerwriting? Finally, if the strategy is unsuccessful, is the failure of the strategy due to loss ofﬂuency? To answer these questions, graduate school admission essays were made morecomplex by substituting some of the original words with their longest applicable thesaurusentries.140D. M. Oppenheimer\n",
      "\n",
      "---\n",
      "\n",
      "Answer the question based on the above context: What is the title of the paper?\n",
      "\n"
     ]
    }
   ],
   "source": [
    "# Concatenate context text\n",
    "context_text = \"\\n\\n---\\n\\n\".join([doc.page_content for doc in relevant_chunks])\n",
    "\n",
    "# Create prompt\n",
    "prompt_template = ChatPromptTemplate.from_template(PROMPT_TEMPLATE)\n",
    "prompt = prompt_template.format(context=context_text, \n",
    "                                question=\"What is the title of the paper?\")\n",
    "print(prompt)"
   ]
  },
  {
   "cell_type": "code",
   "execution_count": 41,
   "metadata": {},
   "outputs": [
    {
     "data": {
      "text/plain": [
       "AIMessage(content='Consequences of Erudite Vernacular Utilized Irrespective of Necessity: Problems with Using Long Words Needlessly\\n', response_metadata={'prompt_feedback': {'block_reason': 0, 'safety_ratings': []}, 'finish_reason': 'STOP', 'safety_ratings': []}, id='run-9660af3b-0544-406d-86f1-73f53931103f-0', usage_metadata={'input_tokens': 1138, 'output_tokens': 22, 'total_tokens': 1160})"
      ]
     },
     "execution_count": 41,
     "metadata": {},
     "output_type": "execute_result"
    }
   ],
   "source": [
    "llm.invoke(prompt)"
   ]
  },
  {
   "cell_type": "markdown",
   "metadata": {},
   "source": [
    "### Using Langchain Expression Language"
   ]
  },
  {
   "cell_type": "code",
   "execution_count": 42,
   "metadata": {},
   "outputs": [
    {
     "data": {
      "text/plain": [
       "AIMessage(content='Consequences of Erudite Vernacular Utilized Irrespective of Necessity: Problems with Using Long Words Needlessly\\n', response_metadata={'prompt_feedback': {'block_reason': 0, 'safety_ratings': []}, 'finish_reason': 'STOP', 'safety_ratings': []}, id='run-5243d908-ffa3-4596-9e13-223fd478261d-0', usage_metadata={'input_tokens': 1128, 'output_tokens': 22, 'total_tokens': 1150})"
      ]
     },
     "execution_count": 42,
     "metadata": {},
     "output_type": "execute_result"
    }
   ],
   "source": [
    "def format_docs(docs):\n",
    "    return \"\\n\\n\".join(doc.page_content for doc in docs)\n",
    "\n",
    "rag_chain = (\n",
    "            {\"context\": retriever | format_docs, \"question\": RunnablePassthrough()}\n",
    "            | prompt_template\n",
    "            | llm\n",
    "        )\n",
    "rag_chain.invoke(\"What's the title of this paper?\")"
   ]
  },
  {
   "cell_type": "markdown",
   "metadata": {},
   "source": [
    "### Generate structured responses"
   ]
  },
  {
   "cell_type": "code",
   "execution_count": 49,
   "metadata": {},
   "outputs": [],
   "source": [
    "class AnswerWithSources(BaseModel):\n",
    "    \"\"\"An answer to the question, with sources and reasoning.\"\"\"\n",
    "    answer: str = Field(description=\"Answer to question\")\n",
    "    sources: str = Field(description=\"Full direct text chunk from the context used to answer the question\")\n",
    "    reasoning: str = Field(description=\"Explain the reasoning of the answer based on the sources\")\n",
    "    \n",
    "class ExtractedInfo(BaseModel):\n",
    "    \"\"\"Extracted information about the research article\"\"\"\n",
    "    paper_title: AnswerWithSources\n",
    "    paper_summary: AnswerWithSources\n",
    "    publication_year: AnswerWithSources\n",
    "    paper_authors: AnswerWithSources"
   ]
  },
  {
   "cell_type": "code",
   "execution_count": 48,
   "metadata": {},
   "outputs": [],
   "source": [
    "rag_chain = (\n",
    "            {\"context\": retriever | format_docs, \"question\": RunnablePassthrough()}\n",
    "            | prompt_template\n",
    "            | llm.with_structured_output(ExtractedInfo)\n",
    "        )\n",
    "\n",
    "rag_chain.invoke(\"Give me the title, summary, publication date, authors of the research paper.\")"
   ]
  },
  {
   "cell_type": "markdown",
   "metadata": {},
   "source": [
    "### Transform response into a dataframe"
   ]
  },
  {
   "cell_type": "code",
   "execution_count": 24,
   "metadata": {},
   "outputs": [
    {
     "ename": "AttributeError",
     "evalue": "'NoneType' object has no attribute 'dict'",
     "output_type": "error",
     "traceback": [
      "\u001b[1;31m---------------------------------------------------------------------------\u001b[0m",
      "\u001b[1;31mAttributeError\u001b[0m                            Traceback (most recent call last)",
      "Cell \u001b[1;32mIn[24], line 2\u001b[0m\n\u001b[0;32m      1\u001b[0m structured_response \u001b[38;5;241m=\u001b[39m rag_chain\u001b[38;5;241m.\u001b[39minvoke(\u001b[38;5;124m\"\u001b[39m\u001b[38;5;124mGive me the title, summary, publication date, authors of the research paper.\u001b[39m\u001b[38;5;124m\"\u001b[39m)\n\u001b[1;32m----> 2\u001b[0m df \u001b[38;5;241m=\u001b[39m pd\u001b[38;5;241m.\u001b[39mDataFrame([\u001b[43mstructured_response\u001b[49m\u001b[38;5;241;43m.\u001b[39;49m\u001b[43mdict\u001b[49m()])\n\u001b[0;32m      4\u001b[0m \u001b[38;5;66;03m# Transforming into a table with two rows: 'answer' and 'source'\u001b[39;00m\n\u001b[0;32m      5\u001b[0m answer_row \u001b[38;5;241m=\u001b[39m []\n",
      "\u001b[1;31mAttributeError\u001b[0m: 'NoneType' object has no attribute 'dict'"
     ]
    }
   ],
   "source": [
    "structured_response = rag_chain.invoke(\"Give me the title, summary, publication date, authors of the research paper.\")\n",
    "df = pd.DataFrame([structured_response.dict()])\n",
    "\n",
    "# Transforming into a table with two rows: 'answer' and 'source'\n",
    "answer_row = []\n",
    "source_row = []\n",
    "reasoning_row = []\n",
    "\n",
    "for col in df.columns:\n",
    "    answer_row.append(df[col][0]['answer'])\n",
    "    source_row.append(df[col][0]['sources'])\n",
    "    reasoning_row.append(df[col][0]['reasoning'])\n",
    "\n",
    "# Create new dataframe with two rows: 'answer' and 'source'\n",
    "structured_response_df = pd.DataFrame([answer_row, source_row, reasoning_row], columns=df.columns, index=['answer', 'source', 'reasoning'])\n",
    "structured_response_df"
   ]
  },
  {
   "cell_type": "code",
   "execution_count": null,
   "metadata": {},
   "outputs": [],
   "source": []
  }
 ],
 "metadata": {
  "kernelspec": {
   "display_name": "extract_pdf",
   "language": "python",
   "name": "python3"
  },
  "language_info": {
   "codemirror_mode": {
    "name": "ipython",
    "version": 3
   },
   "file_extension": ".py",
   "mimetype": "text/x-python",
   "name": "python",
   "nbconvert_exporter": "python",
   "pygments_lexer": "ipython3",
   "version": "3.11.13"
  }
 },
 "nbformat": 4,
 "nbformat_minor": 2
}
